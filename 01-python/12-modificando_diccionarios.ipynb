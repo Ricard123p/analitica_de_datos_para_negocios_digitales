{
 "cells": [
  {
   "cell_type": "markdown",
   "id": "0afacc4f",
   "metadata": {},
   "source": [
    "># Modificando diccionarios"
   ]
  },
  {
   "cell_type": "markdown",
   "id": "8c809ab8",
   "metadata": {},
   "source": [
    "## 1. Objetivos\n",
    "- Practicar los tres metodos basicos de modificacion de diccionarios **agregar datos, modificar datos y borrar llaves** "
   ]
  },
  {
   "cell_type": "markdown",
   "id": "810ef5e8",
   "metadata": {},
   "source": [
    "## 2. Desarrollo \n",
    "Tenemos tres maneras basicas de modificar los diccionarios \n",
    "\n",
    "---"
   ]
  },
  {
   "cell_type": "markdown",
   "id": "3a164982",
   "metadata": {},
   "source": [
    "### Agregar datos al diccionario \n",
    "\n",
    "para agregar datos a un diccionario ya existente, basta con llamar la llave que queremos agregar y aignar un valor"
   ]
  },
  {
   "cell_type": "code",
   "execution_count": 1,
   "id": "33be79d6",
   "metadata": {},
   "outputs": [],
   "source": [
    "from pprint import pprint"
   ]
  },
  {
   "cell_type": "code",
   "execution_count": 2,
   "id": "e7e6a258",
   "metadata": {},
   "outputs": [
    {
     "name": "stdout",
     "output_type": "stream",
     "text": [
      "{'nombre': 'maluma', 'telefono': 5512459856, 'dir': {'colonia': 'el 61', 'calle': 'perineos', 'num': 69, 'cp': 42830}}\n"
     ]
    }
   ],
   "source": [
    "info_de_contacto = {\n",
    "    'nombre': 'maluma',\n",
    "    'telefono': 5512459856,\n",
    "    'dir': {\n",
    "        'colonia': 'el 61',\n",
    "        'calle': 'perineos',\n",
    "        'num':69,\n",
    "        'cp': 42830\n",
    "    }\n",
    "}\n",
    "print(info_de_contacto)"
   ]
  },
  {
   "cell_type": "code",
   "execution_count": 3,
   "id": "960c0e7f",
   "metadata": {},
   "outputs": [
    {
     "name": "stdout",
     "output_type": "stream",
     "text": [
      "{'dir': {'calle': 'perineos', 'colonia': 'el 61', 'cp': 42830, 'num': 69},\n",
      " 'nombre': 'maluma',\n",
      " 'telefono': 5512459856}\n"
     ]
    }
   ],
   "source": [
    "pprint(info_de_contacto)"
   ]
  },
  {
   "cell_type": "code",
   "execution_count": 4,
   "id": "185bed7d",
   "metadata": {},
   "outputs": [],
   "source": [
    "info_de_contacto['email'] = 'maluma_hasta_abajo@regechafa.com'"
   ]
  },
  {
   "cell_type": "code",
   "execution_count": 5,
   "id": "75bd330a",
   "metadata": {},
   "outputs": [
    {
     "name": "stdout",
     "output_type": "stream",
     "text": [
      "{'dir': {'calle': 'perineos', 'colonia': 'el 61', 'cp': 42830, 'num': 69},\n",
      " 'email': 'maluma_hasta_abajo@regechafa.com',\n",
      " 'nombre': 'maluma',\n",
      " 'telefono': 5512459856}\n"
     ]
    }
   ],
   "source": [
    "pprint(info_de_contacto)"
   ]
  },
  {
   "cell_type": "markdown",
   "id": "75ecb856",
   "metadata": {},
   "source": [
    "## Modificar pares llave-valor existentes\n",
    "\n",
    "para modificar un par llave-valor ya existente, basta con reasignar a una llave de nuestro diccionario un nuevo valor que queremos agregar  por ejemplo: imagenemos que esta persona cambio de direccion:"
   ]
  },
  {
   "cell_type": "code",
   "execution_count": 7,
   "id": "a066ad91",
   "metadata": {},
   "outputs": [
    {
     "name": "stdout",
     "output_type": "stream",
     "text": [
      "{'dir': {'calle': 'progreso', 'colonia': 'Escando', 'cp': 11800, 'numero': 189},\n",
      " 'email': 'maluma_hasta_abajo@regechafa.com',\n",
      " 'nombre': 'maluma',\n",
      " 'telefono': 5512459856}\n"
     ]
    }
   ],
   "source": [
    "info_de_contacto ['dir'] = {\n",
    "    'colonia': 'Escando',\n",
    "    'calle' : 'progreso',\n",
    "    'numero': 189,\n",
    "    'cp': 11800\n",
    "}\n",
    "pprint(info_de_contacto)"
   ]
  },
  {
   "cell_type": "code",
   "execution_count": 8,
   "id": "d7459a9f",
   "metadata": {},
   "outputs": [],
   "source": [
    "info_de_contacto['dir']['colonia']= 'saltesipuedes'"
   ]
  },
  {
   "cell_type": "code",
   "execution_count": 9,
   "id": "a906091b",
   "metadata": {},
   "outputs": [
    {
     "name": "stdout",
     "output_type": "stream",
     "text": [
      "{'dir': {'calle': 'progreso',\n",
      "         'colonia': 'saltesipuedes',\n",
      "         'cp': 11800,\n",
      "         'numero': 189},\n",
      " 'email': 'maluma_hasta_abajo@regechafa.com',\n",
      " 'nombre': 'maluma',\n",
      " 'telefono': 5512459856}\n"
     ]
    }
   ],
   "source": [
    "pprint(info_de_contacto)"
   ]
  },
  {
   "cell_type": "markdown",
   "id": "13cb5778",
   "metadata": {},
   "source": [
    "Podemos incluso modificar estruccturas de datos dentro de nuestro diccionario, por ejemplo: que tan si hubo un error al agregar la nueva direccion y ahora tenemos que cambiar solamente el numero de residencia:"
   ]
  },
  {
   "cell_type": "code",
   "execution_count": 10,
   "id": "1751a11a",
   "metadata": {},
   "outputs": [],
   "source": [
    "info_de_contacto['dir']['num'] = 666"
   ]
  },
  {
   "cell_type": "code",
   "execution_count": 11,
   "id": "14b73ee7",
   "metadata": {},
   "outputs": [
    {
     "name": "stdout",
     "output_type": "stream",
     "text": [
      "{'dir': {'calle': 'progreso',\n",
      "         'colonia': 'saltesipuedes',\n",
      "         'cp': 11800,\n",
      "         'num': 666,\n",
      "         'numero': 189},\n",
      " 'email': 'maluma_hasta_abajo@regechafa.com',\n",
      " 'nombre': 'maluma',\n",
      " 'telefono': 5512459856}\n"
     ]
    }
   ],
   "source": [
    "pprint(info_de_contacto)"
   ]
  },
  {
   "cell_type": "markdown",
   "id": "bac45205",
   "metadata": {},
   "source": [
    "## Eliminando datos\n",
    "\n",
    "para eliminar datos, se usar el metodo pop, como se recordara, el nombre de este metodo es identico la nombre del metodo de eliminar metodos en las listas, la diferencia es que el metodo pop de las listas recibe indices como argumentos, el metodo pop de diccionarios recibe llaves como argumentos"
   ]
  },
  {
   "cell_type": "code",
   "execution_count": 12,
   "id": "244d34a0",
   "metadata": {},
   "outputs": [
    {
     "ename": "KeyError",
     "evalue": "'tel'",
     "output_type": "error",
     "traceback": [
      "\u001b[31m---------------------------------------------------------------------------\u001b[39m",
      "\u001b[31mKeyError\u001b[39m                                  Traceback (most recent call last)",
      "\u001b[36mCell\u001b[39m\u001b[36m \u001b[39m\u001b[32mIn[12]\u001b[39m\u001b[32m, line 1\u001b[39m\n\u001b[32m----> \u001b[39m\u001b[32m1\u001b[39m \u001b[43minfo_de_contacto\u001b[49m\u001b[43m.\u001b[49m\u001b[43mpop\u001b[49m\u001b[43m(\u001b[49m\u001b[33;43m'\u001b[39;49m\u001b[33;43mtel\u001b[39;49m\u001b[33;43m'\u001b[39;49m\u001b[43m)\u001b[49m\n\u001b[32m      2\u001b[39m pprint(info_de_contacto)\n",
      "\u001b[31mKeyError\u001b[39m: 'tel'"
     ]
    }
   ],
   "source": [
    "info_de_contacto.pop('tel')\n",
    "pprint(info_de_contacto)"
   ]
  }
 ],
 "metadata": {
  "kernelspec": {
   "display_name": "Python 3",
   "language": "python",
   "name": "python3"
  },
  "language_info": {
   "codemirror_mode": {
    "name": "ipython",
    "version": 3
   },
   "file_extension": ".py",
   "mimetype": "text/x-python",
   "name": "python",
   "nbconvert_exporter": "python",
   "pygments_lexer": "ipython3",
   "version": "3.13.3"
  }
 },
 "nbformat": 4,
 "nbformat_minor": 5
}
