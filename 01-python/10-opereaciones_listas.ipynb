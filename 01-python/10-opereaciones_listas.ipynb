{
 "cells": [
  {
   "cell_type": "markdown",
   "id": "7481232d",
   "metadata": {},
   "source": [
    "# Operaciones con listas"
   ]
  },
  {
   "cell_type": "code",
   "execution_count": null,
   "id": "fb5d4d72",
   "metadata": {},
   "outputs": [],
   "source": []
  },
  {
   "cell_type": "markdown",
   "id": "66144a19",
   "metadata": {},
   "source": [
    "## Copiar una lista a otra"
   ]
  },
  {
   "cell_type": "code",
   "execution_count": null,
   "id": "5627cc02",
   "metadata": {},
   "outputs": [
    {
     "name": "stdout",
     "output_type": "stream",
     "text": [
      "lista 1: [1]\n",
      "lista 2: [1]\n"
     ]
    }
   ],
   "source": [
    "\n",
    "lista_1 = [1]\n",
    "lista_2 = lista_1\n",
    "\n",
    "print(f'lista 1: {lista_1}\\nlista 2: {lista_2}')"
   ]
  },
  {
   "cell_type": "code",
   "execution_count": 2,
   "id": "7dac48ba",
   "metadata": {},
   "outputs": [
    {
     "name": "stdout",
     "output_type": "stream",
     "text": [
      "[1, 10]\n"
     ]
    }
   ],
   "source": [
    "lista_2.append(10)\n",
    "print(lista_2)"
   ]
  },
  {
   "cell_type": "code",
   "execution_count": 3,
   "id": "393123ac",
   "metadata": {},
   "outputs": [
    {
     "name": "stdout",
     "output_type": "stream",
     "text": [
      "[1, 10]\n"
     ]
    }
   ],
   "source": [
    "print(lista_1)"
   ]
  },
  {
   "cell_type": "markdown",
   "id": "2eb0b448",
   "metadata": {},
   "source": [
    "## Slicing o rebanadas"
   ]
  },
  {
   "cell_type": "code",
   "execution_count": 7,
   "id": "e97bce49",
   "metadata": {},
   "outputs": [
    {
     "data": {
      "text/plain": [
       "[3, 4, 5, 6, 7, 8]"
      ]
     },
     "execution_count": 7,
     "metadata": {},
     "output_type": "execute_result"
    }
   ],
   "source": [
    "list_1 = [3,4,5,6,7,8]\n",
    "list_1[:]"
   ]
  },
  {
   "cell_type": "code",
   "execution_count": null,
   "id": "8d861b9c",
   "metadata": {},
   "outputs": [],
   "source": [
    "# forma correcta\n",
    "\n",
    "list_2 = list_1[:]\n",
    "list_2.append(11)\n",
    "list_2"
   ]
  },
  {
   "cell_type": "code",
   "execution_count": 9,
   "id": "fc30c11c",
   "metadata": {},
   "outputs": [
    {
     "name": "stdout",
     "output_type": "stream",
     "text": [
      "[4, 6, 7, 9, 12]\n"
     ]
    }
   ],
   "source": [
    "x = [4,6,7,9,12]\n",
    "y = []\n",
    "y= x.copy()\n",
    "\n",
    "print(y)"
   ]
  },
  {
   "cell_type": "markdown",
   "id": "9d2610ef",
   "metadata": {},
   "source": [
    "### Slicing o Rebanadas - Indices negativos\n",
    "\n",
    "Obseva el fragmento de codigo a continuacion\n",
    "\n",
    "``my_list[start:end]``\n",
    "\n",
    "para confirmar:\n",
    "1. **start** es el indice del primer elemento inccluido en la rebanada\n",
    "2. **end** es el primer indice del primer elemento incluido en la rebanada\n",
    "\n"
   ]
  },
  {
   "cell_type": "code",
   "execution_count": null,
   "id": "8ac1f96b",
   "metadata": {},
   "outputs": [
    {
     "name": "stdout",
     "output_type": "stream",
     "text": [
      "La lista original es: [10, 8, 6, 4, 2]\\la nueva lista es: [1]\n"
     ]
    },
    {
     "name": "stderr",
     "output_type": "stream",
     "text": [
      "<>:3: SyntaxWarning: invalid escape sequence '\\l'\n",
      "<>:3: SyntaxWarning: invalid escape sequence '\\l'\n",
      "C:\\Users\\ricar\\AppData\\Local\\Temp\\ipykernel_30644\\1049730498.py:3: SyntaxWarning: invalid escape sequence '\\l'\n",
      "  print(f'La lista original es: {lista}\\la nueva lista es: {lista_2}')\n"
     ]
    }
   ],
   "source": [
    "lista = [10,8,6,4,2]\n",
    "lista2 = lista[0:3]\n",
    "print(f'La lista original es: {lista}\\la nueva lista es: {lista_2}')"
   ]
  },
  {
   "cell_type": "code",
   "execution_count": 19,
   "id": "e910d092",
   "metadata": {},
   "outputs": [
    {
     "data": {
      "text/plain": [
       "[6, 4]"
      ]
     },
     "execution_count": 19,
     "metadata": {},
     "output_type": "execute_result"
    }
   ],
   "source": [
    "lista[2:-1]"
   ]
  },
  {
   "cell_type": "code",
   "execution_count": 20,
   "id": "9dfc550e",
   "metadata": {},
   "outputs": [
    {
     "data": {
      "text/plain": [
       "[8, 6, 4, 2]"
      ]
     },
     "execution_count": 20,
     "metadata": {},
     "output_type": "execute_result"
    }
   ],
   "source": [
    "lista[1:]"
   ]
  },
  {
   "cell_type": "code",
   "execution_count": null,
   "id": "dd8b36f0",
   "metadata": {},
   "outputs": [],
   "source": [
    "# dada la lista [10,8,6,4,2] eliminar los numeros 8 y 6"
   ]
  }
 ],
 "metadata": {
  "kernelspec": {
   "display_name": "Python 3",
   "language": "python",
   "name": "python3"
  },
  "language_info": {
   "codemirror_mode": {
    "name": "ipython",
    "version": 3
   },
   "file_extension": ".py",
   "mimetype": "text/x-python",
   "name": "python",
   "nbconvert_exporter": "python",
   "pygments_lexer": "ipython3",
   "version": "3.13.3"
  }
 },
 "nbformat": 4,
 "nbformat_minor": 5
}
