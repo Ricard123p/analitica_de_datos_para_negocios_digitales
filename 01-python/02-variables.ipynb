{
 "cells": [
  {
   "cell_type": "markdown",
   "id": "d475b4c5",
   "metadata": {},
   "source": [
    "## Ejemplo 2 variables\n",
    "### Objetivos:\n",
    "- Entender cual es la sintaxis de la asignacion de variables en python\n",
    "- Aprender la convencion de nombramiento de variables"
   ]
  },
  {
   "cell_type": "markdown",
   "id": "4a7e960f",
   "metadata": {},
   "source": [
    "### 2. Desarrollo \n",
    "\n",
    "Los siguientes nombres, son nombres posibles de variables en python \n",
    "\n",
    "- var_1\n",
    "- variable_2\n",
    "- variable_dos\n",
    "- variable_nueva_tres\n",
    "- estas_es_una_variable_nueva\n"
   ]
  },
  {
   "cell_type": "markdown",
   "id": "f206f590",
   "metadata": {},
   "source": [
    "Los siguientes nombres son nombres invalidos para una variable en python:\n",
    "\n",
    "- 1_2\n",
    "- 1_variable\n",
    "- variableDos \n",
    "- EstaEsUnaVariable\n",
    "- Soy una variable\n"
   ]
  },
  {
   "cell_type": "markdown",
   "id": "1a33ed1f",
   "metadata": {},
   "source": [
    "Asignemos unas cuantas variables"
   ]
  },
  {
   "cell_type": "code",
   "execution_count": 1,
   "id": "66e14b9f",
   "metadata": {},
   "outputs": [],
   "source": [
    "var_1 = 3\n",
    "var_2 = 6\n",
    "variable_3 =10\n",
    "variable_nueva_4 = 20\n"
   ]
  },
  {
   "cell_type": "markdown",
   "id": "b3f8104e",
   "metadata": {},
   "source": [
    "Podemos acceder a su contenido con tan solo escribir el nombre de la variable en una celda y correrla"
   ]
  },
  {
   "cell_type": "code",
   "execution_count": 3,
   "id": "f9d2e30d",
   "metadata": {},
   "outputs": [
    {
     "data": {
      "text/plain": [
       "20"
      ]
     },
     "execution_count": 3,
     "metadata": {},
     "output_type": "execute_result"
    }
   ],
   "source": [
    "var_1\n",
    "variable_nueva_4"
   ]
  },
  {
   "cell_type": "markdown",
   "id": "9cd9f015",
   "metadata": {},
   "source": [
    "Si intento llamar a una variable que no existe JN va a lanzar un error "
   ]
  },
  {
   "cell_type": "code",
   "execution_count": 5,
   "id": "6225d6df",
   "metadata": {},
   "outputs": [
    {
     "ename": "NameError",
     "evalue": "name 'var_5' is not defined",
     "output_type": "error",
     "traceback": [
      "\u001b[31m---------------------------------------------------------------------------\u001b[39m",
      "\u001b[31mNameError\u001b[39m                                 Traceback (most recent call last)",
      "\u001b[36mCell\u001b[39m\u001b[36m \u001b[39m\u001b[32mIn[5]\u001b[39m\u001b[32m, line 1\u001b[39m\n\u001b[32m----> \u001b[39m\u001b[32m1\u001b[39m \u001b[43mvar_5\u001b[49m\n",
      "\u001b[31mNameError\u001b[39m: name 'var_5' is not defined"
     ]
    }
   ],
   "source": [
    "var_5"
   ]
  },
  {
   "cell_type": "markdown",
   "id": "f089fb8c",
   "metadata": {},
   "source": [
    "De igual manera si se escribe una asignacion pero no se corre la celda esa variable no estara disponible para el notebook mas adelante "
   ]
  },
  {
   "cell_type": "code",
   "execution_count": null,
   "id": "378ea122",
   "metadata": {},
   "outputs": [],
   "source": [
    "var_2 = 66"
   ]
  },
  {
   "cell_type": "markdown",
   "id": "a2229e45",
   "metadata": {},
   "source": [
    "## reto 1: Variables\n",
    " ### 1. Objetivos\n",
    "    - Practicar convencion de nombramiento y asignacion de variables \n",
    "\n",
    "### 2. Desarrollo \n",
    "Realizar la siguiente practica"
   ]
  },
  {
   "cell_type": "code",
   "execution_count": 7,
   "id": "26ed4f3a",
   "metadata": {},
   "outputs": [],
   "source": [
    "# Asigna el numero 12345 a una variable llamada variable locochona\n",
    "variable_locochona = 12345\n",
    "# Asigna el numero 14.567 a la variable decimal\n",
    "var_decimal = 14.567\n",
    "# Asigna un numero cualquiera a una variable que tenga 5 palabras en su nombre\n",
    "oni_chan_uwu_mi_compadre = 25 \n",
    "# Asigna cualquier numero a una variable que incluya palabras y numeros en su nombre\n",
    "numero_1 = 11"
   ]
  },
  {
   "cell_type": "code",
   "execution_count": null,
   "id": "b04f1e2e",
   "metadata": {},
   "outputs": [],
   "source": []
  }
 ],
 "metadata": {
  "kernelspec": {
   "display_name": "Python 3",
   "language": "python",
   "name": "python3"
  },
  "language_info": {
   "codemirror_mode": {
    "name": "ipython",
    "version": 3
   },
   "file_extension": ".py",
   "mimetype": "text/x-python",
   "name": "python",
   "nbconvert_exporter": "python",
   "pygments_lexer": "ipython3",
   "version": "3.13.3"
  }
 },
 "nbformat": 4,
 "nbformat_minor": 5
}
