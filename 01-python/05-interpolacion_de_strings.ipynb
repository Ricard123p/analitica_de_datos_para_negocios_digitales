{
 "cells": [
  {
   "cell_type": "markdown",
   "id": "c60a5a48",
   "metadata": {},
   "source": [
    "## Interpolacion \n",
    "\n",
    "### Objetivos: \n",
    "    -   Aprender a imprimir strings\n",
    "    -   Aprender a interpolar variables en strings\n",
    "    \n",
    "    ---\n",
    "\n",
    "    ### Desarrollo\n",
    "\n",
    "    "
   ]
  },
  {
   "cell_type": "markdown",
   "id": "204f07aa",
   "metadata": {},
   "source": [
    "Podemos hacer anotaciones en outpuds de nuestro codigo de esta manera"
   ]
  },
  {
   "cell_type": "code",
   "execution_count": 5,
   "id": "bf76726f",
   "metadata": {},
   "outputs": [
    {
     "name": "stdout",
     "output_type": "stream",
     "text": [
      "Suma de var_1 y var_2\n",
      "38.7\n"
     ]
    }
   ],
   "source": [
    "var_1 = 15.3\n",
    "var_2 = 23.4\n",
    "\n",
    "print(\"Suma de var_1 y var_2\")\n",
    "print(var_1 + var_2)"
   ]
  },
  {
   "cell_type": "markdown",
   "id": "d4f6158b",
   "metadata": {},
   "source": [
    "Pero a veces resulta nesesario o deable interpolar el valor de la variable dentro de dicho string. Para esto utilizamos las llamadas `f_strings`. El formato de una `f-strings` es el siguiente:\n",
    "\n",
    "`f\"Esto es texto (esto_es_una_variable) esto es mas texto\"` \n",
    "\n",
    "Escriviendo una `f` antes de las comillas le indicamos a python que lo que pongas dentro de las llaves (`{}`) sera codigo de python. En este caso una variable asignada previamente. \n",
    "\n",
    "Ahora podemos hacer lo siguiente:\n",
    "\n",
    "\n",
    "\n"
   ]
  },
  {
   "cell_type": "code",
   "execution_count": 6,
   "id": "704182a0",
   "metadata": {},
   "outputs": [
    {
     "name": "stdout",
     "output_type": "stream",
     "text": [
      " La suma 67.3 \n"
     ]
    }
   ],
   "source": [
    "var_3 = 43 \n",
    "var_4 = 24.3\n",
    "\n",
    "suma = var_3 + var_4\n",
    "\n",
    "print(f' La suma {suma } ')"
   ]
  },
  {
   "cell_type": "code",
   "execution_count": 7,
   "id": "32e1b5bd",
   "metadata": {},
   "outputs": [
    {
     "name": "stdout",
     "output_type": "stream",
     "text": [
      "El nombre del programa es: chachitos y la suma de los valores 7.0 + 8.0 es: 15.0\n"
     ]
    }
   ],
   "source": [
    "nombre_programa = input('introduce el nombre del programa')\n",
    "var_3 = float(input('Introduce el primer valor'))\n",
    "var_4 = float(input('Introduce el segundo valor'))\n",
    "\n",
    "suma = var_3 + var_4\n",
    "print(f'El nombre del programa es: {nombre_programa} y la suma de los valores {var_3} + {var_4} es: {suma}')"
   ]
  },
  {
   "cell_type": "code",
   "execution_count": 8,
   "id": "68bb52e8",
   "metadata": {},
   "outputs": [],
   "source": [
    "def sumar (numero_1, numero_2):\n",
    "    return numero_1 + numero_2 \n"
   ]
  },
  {
   "cell_type": "code",
   "execution_count": 9,
   "id": "d9064511",
   "metadata": {},
   "outputs": [],
   "source": [
    "## funcion que pida el valor\n",
    "\n",
    "def solicitarValor ():\n",
    "    return float(input('Introduce el primer valor'))\n",
    "\n"
   ]
  },
  {
   "cell_type": "code",
   "execution_count": 10,
   "id": "0ad1db42",
   "metadata": {},
   "outputs": [
    {
     "name": "stdout",
     "output_type": "stream",
     "text": [
      "14.0\n"
     ]
    }
   ],
   "source": [
    "var_3 = float(input('Introduce el primer valor'))\n",
    "var_4 = float(input('Introduce el segundo valor'))\n",
    "\n",
    "sumar = sumar(var_3, var_4)\n",
    "\n",
    "print(sumar)"
   ]
  },
  {
   "cell_type": "code",
   "execution_count": 11,
   "id": "4553aa17",
   "metadata": {},
   "outputs": [
    {
     "ename": "TypeError",
     "evalue": "'float' object is not callable",
     "output_type": "error",
     "traceback": [
      "\u001b[31m---------------------------------------------------------------------------\u001b[39m",
      "\u001b[31mTypeError\u001b[39m                                 Traceback (most recent call last)",
      "\u001b[36mCell\u001b[39m\u001b[36m \u001b[39m\u001b[32mIn[11]\u001b[39m\u001b[32m, line 7\u001b[39m\n\u001b[32m      4\u001b[39m var_3 = \u001b[38;5;28mfloat\u001b[39m(\u001b[38;5;28minput\u001b[39m(\u001b[33m'\u001b[39m\u001b[33mIntroduce el primer valor\u001b[39m\u001b[33m'\u001b[39m))\n\u001b[32m      5\u001b[39m var_4 = \u001b[38;5;28mfloat\u001b[39m(\u001b[38;5;28minput\u001b[39m(\u001b[33m'\u001b[39m\u001b[33mIntroduce el segundo valor\u001b[39m\u001b[33m'\u001b[39m))\n\u001b[32m----> \u001b[39m\u001b[32m7\u001b[39m sumar = \u001b[43msumar\u001b[49m\u001b[43m(\u001b[49m\u001b[43mvar_3\u001b[49m\u001b[43m,\u001b[49m\u001b[43m \u001b[49m\u001b[43mvar_4\u001b[49m\u001b[43m)\u001b[49m\n\u001b[32m      9\u001b[39m \u001b[38;5;28mprint\u001b[39m(sumar)\n",
      "\u001b[31mTypeError\u001b[39m: 'float' object is not callable"
     ]
    }
   ],
   "source": [
    "def solicitarValor ():\n",
    "    return float(input('Introduce el primer valor'))\n",
    "\n",
    "var_3 = float(input('Introduce el primer valor'))\n",
    "var_4 = float(input('Introduce el segundo valor'))\n",
    "\n",
    "sumar = sumar(var_3, var_4)\n",
    "\n",
    "print(sumar)"
   ]
  }
 ],
 "metadata": {
  "kernelspec": {
   "display_name": "Python 3",
   "language": "python",
   "name": "python3"
  },
  "language_info": {
   "codemirror_mode": {
    "name": "ipython",
    "version": 3
   },
   "file_extension": ".py",
   "mimetype": "text/x-python",
   "name": "python",
   "nbconvert_exporter": "python",
   "pygments_lexer": "ipython3",
   "version": "3.13.3"
  }
 },
 "nbformat": 4,
 "nbformat_minor": 5
}
