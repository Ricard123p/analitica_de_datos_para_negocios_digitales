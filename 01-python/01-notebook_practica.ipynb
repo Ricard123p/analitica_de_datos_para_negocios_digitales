{
 "cells": [
  {
   "cell_type": "markdown",
   "id": "376e3715",
   "metadata": {},
   "source": [
    "print (\"Hola mundo\")"
   ]
  },
  {
   "cell_type": "code",
   "execution_count": null,
   "id": "a03561e7",
   "metadata": {},
   "outputs": [],
   "source": []
  },
  {
   "cell_type": "markdown",
   "id": "8771365d",
   "metadata": {},
   "source": [
    "# Ejemplo 1: Esto es un noteboock de practica\n",
    "\n",
    "´´´\n",
    "### 1. objetivos \n",
    "    - Repasar rapidamente como funciona un jypiter notebook \n",
    "\n",
    "## Requisitos \n",
    "    - jypiter notebook instalado\n",
    "\n",
    "´´´"
   ]
  },
  {
   "cell_type": "markdown",
   "id": "abde3d89",
   "metadata": {},
   "source": [
    "En JN tenemos `modo comando` y `modo edicion` .\n",
    "- el `modo edicion` sirve para editar celdas\n",
    "- el `modo comando` sirve para usar comandos en el JN \n",
    " "
   ]
  },
  {
   "cell_type": "markdown",
   "id": "210a5d5b",
   "metadata": {},
   "source": [
    "Esto es una celda `Markdown`"
   ]
  },
  {
   "cell_type": "code",
   "execution_count": 3,
   "id": "3fa01695",
   "metadata": {},
   "outputs": [],
   "source": [
    "# Esto es una celda de codigo \n",
    "# yo soy un comentario ..."
   ]
  },
  {
   "cell_type": "markdown",
   "id": "4e832ad5",
   "metadata": {},
   "source": [
    "Escribamos algo de codigo para recordar"
   ]
  },
  {
   "cell_type": "code",
   "execution_count": 4,
   "id": "00d0920a",
   "metadata": {},
   "outputs": [
    {
     "data": {
      "text/plain": [
       "9"
      ]
     },
     "execution_count": 4,
     "metadata": {},
     "output_type": "execute_result"
    }
   ],
   "source": [
    "var_1 = 4\n",
    "var_2 = 5\n",
    "var_1 + var_2 "
   ]
  },
  {
   "cell_type": "code",
   "execution_count": 5,
   "id": "b0c22ebc",
   "metadata": {},
   "outputs": [
    {
     "name": "stdout",
     "output_type": "stream",
     "text": [
      "4 5\n"
     ]
    }
   ],
   "source": [
    "print (var_1,var_2)"
   ]
  },
  {
   "cell_type": "code",
   "execution_count": 6,
   "id": "e6dc2d84",
   "metadata": {},
   "outputs": [
    {
     "name": "stdout",
     "output_type": "stream",
     "text": [
      "9\n"
     ]
    }
   ],
   "source": [
    "print (var_1 + var_2)"
   ]
  },
  {
   "cell_type": "code",
   "execution_count": 7,
   "id": "82542aec",
   "metadata": {},
   "outputs": [
    {
     "name": "stdout",
     "output_type": "stream",
     "text": [
      "4,5\n"
     ]
    }
   ],
   "source": [
    "print (str(var_1) + ',' + str(var_2) )"
   ]
  },
  {
   "cell_type": "code",
   "execution_count": 8,
   "id": "809d6987",
   "metadata": {},
   "outputs": [
    {
     "data": {
      "text/plain": [
       "15"
      ]
     },
     "execution_count": 8,
     "metadata": {},
     "output_type": "execute_result"
    }
   ],
   "source": [
    "var_1 = 10\n",
    "var_1 + var_2"
   ]
  }
 ],
 "metadata": {
  "kernelspec": {
   "display_name": "Python 3",
   "language": "python",
   "name": "python3"
  },
  "language_info": {
   "codemirror_mode": {
    "name": "ipython",
    "version": 3
   },
   "file_extension": ".py",
   "mimetype": "text/x-python",
   "name": "python",
   "nbconvert_exporter": "python",
   "pygments_lexer": "ipython3",
   "version": "3.13.3"
  }
 },
 "nbformat": 4,
 "nbformat_minor": 5
}
