{
 "cells": [
  {
   "cell_type": "markdown",
   "id": "f06e5777",
   "metadata": {},
   "source": [
    "## Estructuras de control\n",
    "\n",
    "## Objetivos\n",
    "\n",
    "    - Conocer las estructuras de control, como funcionan y para que sirven \n",
    "\n",
    "    --- \n",
    "\n",
    "### Desarrollo\n"
   ]
  },
  {
   "cell_type": "markdown",
   "id": "c751e3ba",
   "metadata": {},
   "source": [
    "Queremos darle a nuestro progama de capacidad de tomar desiciones. Esto puede hacerse utlizando una `sentenciaif` utiliza una comparacion para obtener un boolean. Si el booleando es `True`, el bloque de la sentencia se ejecuta. Si el booleano es `False` nos saltamos a lo que sigue despues del bloque "
   ]
  },
  {
   "cell_type": "code",
   "execution_count": 1,
   "id": "36a221e9",
   "metadata": {},
   "outputs": [],
   "source": [
    "var_1 = 4\n",
    "var_2 = 5\n"
   ]
  },
  {
   "cell_type": "code",
   "execution_count": 2,
   "id": "80813c1f",
   "metadata": {},
   "outputs": [
    {
     "name": "stdout",
     "output_type": "stream",
     "text": [
      "El bloque se ha ejecutado\n"
     ]
    }
   ],
   "source": [
    "if var_1 < var_2:\n",
    "    print(\"El bloque se ha ejecutado\")"
   ]
  },
  {
   "cell_type": "code",
   "execution_count": 3,
   "id": "70566551",
   "metadata": {},
   "outputs": [],
   "source": [
    "var_1 = int(input(\"intoduce el valor\"))\n",
    "var_2 =int(input(\"intoduce el valor\"))\n",
    "\n",
    "if var_1 < var_2:\n",
    "\n",
    "    print (f\"el numero {var_1} es menor que el numero {var_2}\")"
   ]
  },
  {
   "cell_type": "code",
   "execution_count": 4,
   "id": "b1f9a3ba",
   "metadata": {},
   "outputs": [],
   "source": [
    "#funcion que solicita un valor \n",
    "\n",
    "def solicitar ():\n",
    "    return (input(\"intoduce el valor\"))"
   ]
  },
  {
   "cell_type": "code",
   "execution_count": 5,
   "id": "86717587",
   "metadata": {},
   "outputs": [],
   "source": [
    "# Funcion que hace la comparacion \n",
    "def comparar (valor_uno, valor_dos):\n",
    "    if var_1 < valor_dos:\n",
    "        printprint (f\"El numero {var_1} es menor que el numero {var_2}\")"
   ]
  },
  {
   "cell_type": "code",
   "execution_count": 6,
   "id": "b7ed6262",
   "metadata": {},
   "outputs": [],
   "source": [
    "# Ejecucion de las funciones \n",
    "\n",
    "var_1 = solicitar()\n",
    "var_2 = solicitar()\n"
   ]
  },
  {
   "cell_type": "markdown",
   "id": "d091b852",
   "metadata": {},
   "source": [
    "1. **Desarrollar un programa que determine si un numero es positivo**\n",
    "2. **Desarrollar un programa que determine si puedes votar, la edad minima es 18**\n",
    "3. **Verificar si un numero es par**\n",
    "4. **Realizar la simulacion de un Login, en el cual se debe de verificar si la contraseña es correcta**\n",
    "5. **Realziar un programa determine si un alumno esta aprovado, la calificacion minima es 7**"
   ]
  },
  {
   "cell_type": "code",
   "execution_count": 7,
   "id": "7f3442d8",
   "metadata": {},
   "outputs": [
    {
     "ename": "TypeError",
     "evalue": "'>' not supported between instances of 'str' and 'int'",
     "output_type": "error",
     "traceback": [
      "\u001b[31m---------------------------------------------------------------------------\u001b[39m",
      "\u001b[31mTypeError\u001b[39m                                 Traceback (most recent call last)",
      "\u001b[36mCell\u001b[39m\u001b[36m \u001b[39m\u001b[32mIn[7]\u001b[39m\u001b[32m, line 4\u001b[39m\n\u001b[32m      1\u001b[39m \u001b[38;5;66;03m#1\u001b[39;00m\n\u001b[32m      2\u001b[39m numero = solicitar()\n\u001b[32m----> \u001b[39m\u001b[32m4\u001b[39m \u001b[38;5;28;01mif\u001b[39;00m (\u001b[43mnumero\u001b[49m\u001b[43m \u001b[49m\u001b[43m>\u001b[49m\u001b[43m \u001b[49m\u001b[32;43m0\u001b[39;49m ):\n\u001b[32m      5\u001b[39m     \u001b[38;5;28mprint\u001b[39m(\u001b[33mf\u001b[39m\u001b[33m'\u001b[39m\u001b[33mEl numero \u001b[39m\u001b[38;5;132;01m{\u001b[39;00mnumero\u001b[38;5;132;01m}\u001b[39;00m\u001b[33m es positivo\u001b[39m\u001b[33m'\u001b[39m)\n\u001b[32m      7\u001b[39m \u001b[38;5;28mprint\u001b[39m (\u001b[33m'\u001b[39m\u001b[33mFin del programa\u001b[39m\u001b[33m'\u001b[39m)\n",
      "\u001b[31mTypeError\u001b[39m: '>' not supported between instances of 'str' and 'int'"
     ]
    }
   ],
   "source": [
    "#1\n",
    "numero = solicitar()\n",
    "\n",
    "if (numero > 0 ):\n",
    "    print(f'El numero {numero} es positivo')\n",
    "\n",
    "print ('Fin del programa')"
   ]
  },
  {
   "cell_type": "code",
   "execution_count": null,
   "id": "f46b14a7",
   "metadata": {},
   "outputs": [
    {
     "name": "stdout",
     "output_type": "stream",
     "text": [
      "el numero 11 es positivo mientras tanto 22 es negativo\n"
     ]
    }
   ],
   "source": [
    "## 1. Desarrollar un programa que determine si un numero es positivo\n",
    "var_1 = int(input(\"intoduce el valor\"))\n",
    "var_2 = int(input(\"intoduce el valor\"))\n",
    "\n",
    "\n",
    "if var_1 > 0 :\n",
    "\n",
    "\n",
    "    print (f\"el numero {var_1} es positivo mientras tanto {var_2} es negativo\")\n",
    "    \n"
   ]
  },
  {
   "cell_type": "code",
   "execution_count": null,
   "id": "15bab449",
   "metadata": {},
   "outputs": [
    {
     "ename": "TypeError",
     "evalue": "'>=' not supported between instances of 'str' and 'int'",
     "output_type": "error",
     "traceback": [
      "\u001b[31m---------------------------------------------------------------------------\u001b[39m",
      "\u001b[31mTypeError\u001b[39m                                 Traceback (most recent call last)",
      "\u001b[36mCell\u001b[39m\u001b[36m \u001b[39m\u001b[32mIn[11]\u001b[39m\u001b[32m, line 3\u001b[39m\n\u001b[32m      1\u001b[39m \u001b[38;5;66;03m# 2\u001b[39;00m\n\u001b[32m      2\u001b[39m edad = solicitar()\n\u001b[32m----> \u001b[39m\u001b[32m3\u001b[39m \u001b[38;5;28;01mif\u001b[39;00m(\u001b[43medad\u001b[49m\u001b[43m>\u001b[49m\u001b[43m=\u001b[49m\u001b[32;43m18\u001b[39;49m):\n\u001b[32m      4\u001b[39m     \u001b[38;5;28mprint\u001b[39m(\u001b[33m'\u001b[39m\u001b[33mpuedes votar\u001b[39m\u001b[33m'\u001b[39m)\n",
      "\u001b[31mTypeError\u001b[39m: '>=' not supported between instances of 'str' and 'int'"
     ]
    }
   ],
   "source": [
    "# 2\n",
    "edad = solicitar()\n",
    "if(edad>=18):\n",
    "    print('puedes votar')\n"
   ]
  },
  {
   "cell_type": "code",
   "execution_count": null,
   "id": "53556452",
   "metadata": {},
   "outputs": [
    {
     "ename": "TypeError",
     "evalue": "not all arguments converted during string formatting",
     "output_type": "error",
     "traceback": [
      "\u001b[31m---------------------------------------------------------------------------\u001b[39m",
      "\u001b[31mTypeError\u001b[39m                                 Traceback (most recent call last)",
      "\u001b[36mCell\u001b[39m\u001b[36m \u001b[39m\u001b[32mIn[9]\u001b[39m\u001b[32m, line 4\u001b[39m\n\u001b[32m      1\u001b[39m \u001b[38;5;66;03m# 3\u001b[39;00m\n\u001b[32m      2\u001b[39m numero_1 = solicitar()\n\u001b[32m----> \u001b[39m\u001b[32m4\u001b[39m \u001b[38;5;28;01mif\u001b[39;00m \u001b[43mnumero_1\u001b[49m\u001b[43m \u001b[49m\u001b[43m%\u001b[49m\u001b[43m \u001b[49m\u001b[32;43m2\u001b[39;49m == \u001b[32m0\u001b[39m:\n\u001b[32m      5\u001b[39m     \u001b[38;5;28mprint\u001b[39m(\u001b[33mf\u001b[39m\u001b[33m'\u001b[39m\u001b[33mEl numero\u001b[39m\u001b[38;5;132;01m{\u001b[39;00mnumero_1\u001b[38;5;132;01m}\u001b[39;00m\u001b[33m es par\u001b[39m\u001b[33m'\u001b[39m)\n",
      "\u001b[31mTypeError\u001b[39m: not all arguments converted during string formatting"
     ]
    }
   ],
   "source": [
    "# 3\n",
    "numero_1 = solicitar()\n",
    "\n",
    "if numero_1 % 2 == 0:\n",
    "    print(f'El numero{numero_1} es par')"
   ]
  },
  {
   "cell_type": "code",
   "execution_count": null,
   "id": "7953efb1",
   "metadata": {},
   "outputs": [
    {
     "name": "stdout",
     "output_type": "stream",
     "text": [
      "Saquese ...\n"
     ]
    }
   ],
   "source": [
    "# 4 \n",
    "contrasena = 1234\n",
    "password = int(input('Introduce la contreseña'))\n",
    "\n",
    "if password == contrasena:\n",
    "    print('tienes acceso total') \n",
    "else:\n",
    "    print('Saquese ...')"
   ]
  },
  {
   "cell_type": "code",
   "execution_count": null,
   "id": "8a054691",
   "metadata": {},
   "outputs": [
    {
     "ename": "TypeError",
     "evalue": "'<=' not supported between instances of 'str' and 'int'",
     "output_type": "error",
     "traceback": [
      "\u001b[31m---------------------------------------------------------------------------\u001b[39m",
      "\u001b[31mTypeError\u001b[39m                                 Traceback (most recent call last)",
      "\u001b[36mCell\u001b[39m\u001b[36m \u001b[39m\u001b[32mIn[12]\u001b[39m\u001b[32m, line 5\u001b[39m\n\u001b[32m      1\u001b[39m \u001b[38;5;66;03m# 5\u001b[39;00m\n\u001b[32m      3\u001b[39m calif= solicitar()\n\u001b[32m----> \u001b[39m\u001b[32m5\u001b[39m \u001b[38;5;28;01mif\u001b[39;00m(\u001b[43mcalif\u001b[49m\u001b[43m<\u001b[49m\u001b[43m=\u001b[49m\u001b[32;43m7\u001b[39;49m):\n\u001b[32m      6\u001b[39m     \u001b[38;5;28mprint\u001b[39m(\u001b[33m'\u001b[39m\u001b[33mEstas aprovado\u001b[39m\u001b[33m'\u001b[39m)\n",
      "\u001b[31mTypeError\u001b[39m: '<=' not supported between instances of 'str' and 'int'"
     ]
    }
   ],
   "source": [
    "# 5\n",
    "\n",
    "calif= solicitar()\n",
    "\n",
    "if(calif<=7):\n",
    "    print('Estas aprovado')"
   ]
  },
  {
   "cell_type": "markdown",
   "id": "36d2798e",
   "metadata": {},
   "source": [
    "\n",
    "## Operadores logicos\n",
    "\n",
    "---\n",
    "\n",
    "### Operador `or`\n",
    "\n",
    "| A   | B   | A or B |\n",
    "|-----|-----|--------|\n",
    "| F   | F   | F      |\n",
    "| T   | F   | T      |\n",
    "| F   | T   | T      |\n",
    "| T   | T   | T      |\n",
    "\n",
    "### Operador `and`\n",
    "\n",
    "| A   | B   | A and B |\n",
    "|-----|-----|---------|\n",
    "| F   | F   | F       |\n",
    "| T   | F   | F       |\n",
    "| F   | T   | F       |\n",
    "| T   | T   | T       |\n",
    "\n",
    "### Operador `not`\n",
    "\n",
    "| A   | not A |\n",
    "|-----|--------|\n",
    "| F   | T      |\n",
    "| T   | F      |\n",
    "\n"
   ]
  },
  {
   "cell_type": "code",
   "execution_count": null,
   "id": "7c8df432",
   "metadata": {},
   "outputs": [
    {
     "data": {
      "text/plain": [
       "False"
      ]
     },
     "execution_count": 16,
     "metadata": {},
     "output_type": "execute_result"
    }
   ],
   "source": [
    "resultado = 4>5 and 5==5\n",
    "resultado  "
   ]
  },
  {
   "cell_type": "code",
   "execution_count": null,
   "id": "620795ec",
   "metadata": {},
   "outputs": [
    {
     "data": {
      "text/plain": [
       "True"
      ]
     },
     "execution_count": 14,
     "metadata": {},
     "output_type": "execute_result"
    }
   ],
   "source": [
    "resultado =not( 4>5 and 5==5)\n",
    "resultado\n",
    " "
   ]
  },
  {
   "cell_type": "code",
   "execution_count": null,
   "id": "f8fd91e7",
   "metadata": {},
   "outputs": [
    {
     "data": {
      "text/plain": [
       "True"
      ]
     },
     "execution_count": 15,
     "metadata": {},
     "output_type": "execute_result"
    }
   ],
   "source": [
    "resultado = not 4>5 or 5==5\n",
    "resultado"
   ]
  },
  {
   "cell_type": "code",
   "execution_count": null,
   "id": "6d68cae7",
   "metadata": {},
   "outputs": [
    {
     "data": {
      "text/plain": [
       "False"
      ]
     },
     "execution_count": 18,
     "metadata": {},
     "output_type": "execute_result"
    }
   ],
   "source": [
    "resultado = not 4<5 or 5!=5\n",
    "resultado"
   ]
  },
  {
   "cell_type": "code",
   "execution_count": null,
   "id": "ec018018",
   "metadata": {},
   "outputs": [],
   "source": [
    "x = 5\n",
    "y = 10\n",
    "\n",
    "resultado = x>=5 and y<=x"
   ]
  },
  {
   "cell_type": "markdown",
   "id": "b52467a5",
   "metadata": {},
   "source": [
    "1.- verificar si un numero esta en el rango de 10 y 20\n",
    "2.- verificar si un usuario tiene acceso al charly´s si tiene minimo 18 años o tiene permiso especial \n",
    "3.- verificar si un numero no es igual a 0\n",
    "4.- verificar si un valor esta fuera del rango de 0 en 30 \n"
   ]
  },
  {
   "cell_type": "code",
   "execution_count": null,
   "id": "e8eb5dcb",
   "metadata": {},
   "outputs": [],
   "source": [
    "resultado = "
   ]
  },
  {
   "cell_type": "markdown",
   "id": "26c3ce69",
   "metadata": {},
   "source": [
    "Hay veces que queremos tener una accion `default`, que queremos que suceda en caso de que la comparacion sea `false`. Para esto podemos usar una sentencia `else`. Piensalo como preguntarse a uno mismo: \"si meto mi mano en la bolsa y resulta encuentro un billete de $50, me compro unos nachos; y si no hay nada vere una pelicula con mi novi@ llorando de tristesa xq no es el otro \" "
   ]
  },
  {
   "cell_type": "code",
   "execution_count": null,
   "id": "ebfcec91",
   "metadata": {},
   "outputs": [
    {
     "name": "stdout",
     "output_type": "stream",
     "text": [
      "La condicion no se ah cumplido, y por lo tanto yo me imprimo\n"
     ]
    }
   ],
   "source": [
    "var_1 = 4\n",
    "var_2 = 5\n",
    "\n",
    "if var_1 > var_2:\n",
    "    print('LA CONDICION SE CUMPLIO')\n",
    "else:\n",
    "    print('La condicion no se ah cumplido,' \\\n",
    "    ' y por lo tanto yo me imprimo')"
   ]
  },
  {
   "cell_type": "code",
   "execution_count": null,
   "id": "01fdd18f",
   "metadata": {},
   "outputs": [],
   "source": [
    "# Encontrar el numero mas grande de dos numeros \n",
    "\n",
    "number_1 = int(input('introduce el numero1'))\n",
    "number_2 = int(input('introduce el numero2'))\n",
    "\n",
    "# Elegir el numero mas grande\n",
    "\n",
    "if  number_1 > number_2:\n",
    "    print(f'El numero {number_1} es mayor al numero {number_2}')\n",
    "else:\n",
    "    print(f'El numero {number_2} es mayor al numero {number_1}')"
   ]
  },
  {
   "cell_type": "code",
   "execution_count": null,
   "id": "a6dac0fb",
   "metadata": {},
   "outputs": [],
   "source": [
    "number_1 = int(input('introduce el numero1'))\n",
    "number_2 = int(input('introduce el numero2'))\n",
    "\n",
    "if number_1 > number_2:\n",
    "    numero_mayor = number_1\n",
    "else:\n",
    "    numero_mayor = number_2\n",
    "\n",
    "print(f'El numero mayor es: {numero_mayor}')"
   ]
  },
  {
   "cell_type": "markdown",
   "id": "f4292377",
   "metadata": {},
   "source": [
    "Si queremos que haya mas opciones, podemos agregar opciones utilizando la sentencia `elif`"
   ]
  },
  {
   "cell_type": "code",
   "execution_count": null,
   "id": "59b28a4e",
   "metadata": {},
   "outputs": [
    {
     "name": "stdout",
     "output_type": "stream",
     "text": [
      "El 14 es mayor que 12\n"
     ]
    }
   ],
   "source": [
    "var_1 = 12 \n",
    "var_2 = 14\n",
    "\n",
    "if var_1 > var_2:\n",
    "    print(f'El{var_1} es mayor a {var_2}')\n",
    "elif var_2 > var_1:\n",
    "    print(f'El {var_2} es mayor que {var_1}')\n",
    "else:\n",
    "    print(f'El {var_1} es igual al {var_2}')"
   ]
  },
  {
   "cell_type": "markdown",
   "id": "0736c822",
   "metadata": {},
   "source": [
    "#### 1. Comparaciones numéricas\n",
    "\n",
    "Vamos a imaginar que estamos analizando un conjunto de datos que contiene las ventas anuales en pesos de unos vendedores que trabajan en nuestra empresa. Obtenemos el total de ventas anuales en pesos y lo tenemos asignado a la variable `ventas_anuales_totales`. Escribe una estructura de control que nos diga de cuánto va a ser el bono de nuestro empleado.\n",
    "\n",
    "Si las ventas son mayores a `$`1,000,000 el bono será de 20% del sueldo; si son entre `$`700,000 y `$`1,000,000 el bono será de 15% del sueldo; entre `$`400,000 y `$`700,000 el bono será de 10% del sueldo; entre `$`100,00 y 400,000 el bono será de 5% del sueldo; y debajo de `$`100,000 el bono será del 1% del sueldo.\n",
    "\n",
    "Escribe tu estructura de control y, por ahora (más adelante tendremos más herramientas para hacer esto más interesante) imprime una string que diga de cuánto va a ser el bono.\n",
    "\n",
    "> Reto opcional: Agrega una variable `sueldo` que sea el sueldo de tu empleado y agrégale el porcentaje de bono a esa variable dependiendo de la condición que se cumpla. Después hasta el final imprime una string interpolada que diga algo como \"Felicidades, tu sueldo es x; tu bono es de x; y el total de sueldo con el bono incluido es de x\". ¡Para que esto funcione también debes de agregar una variable donde guardes la cantidad del bono!"
   ]
  },
  {
   "cell_type": "code",
   "execution_count": null,
   "id": "8774a796",
   "metadata": {},
   "outputs": [],
   "source": [
    "\n",
    "ventas_anuales_totales = 850000  \n",
    "sueldo = 50000 \n",
    "\n",
    "\n",
    "if ventas_anuales_totales > 1_000_000:\n",
    "    porcentaje_bono = 0.20\n",
    "elif ventas_anuales_totales >= 700_000:\n",
    "    porcentaje_bono = 0.15\n",
    "elif ventas_anuales_totales >= 400_000:\n",
    "    porcentaje_bono = 0.10\n",
    "elif ventas_anuales_totales >= 100_000:\n",
    "    porcentaje_bono = 0.05\n",
    "else:\n",
    "    porcentaje_bono = 0.01\n",
    "\n",
    "\n",
    "bono = sueldo * porcentaje_bono\n",
    "sueldo_total = sueldo + bono\n",
    "\n",
    "\n",
    "print(f\"tu sueldo es ${sueldo:.2f}; tu bono es de ${bono:.2f}; y el total de sueldo con el bono incluido es de ${sueldo_total:.2f}.\")\n"
   ]
  },
  {
   "cell_type": "code",
   "execution_count": null,
   "id": "d7419054",
   "metadata": {},
   "outputs": [],
   "source": [
    "ventas_anuales_totales = int(input('introduce las ventas'))\n",
    "if ventas_anuales_totales > 1000000:\n",
    " bono = ventas_anuales_totales * 0.20\n",
    "elif ventas_anuales_totales >=70000 and ventas_anuales_totales<=1000000:\n",
    "  bono = ventas_anuales_totales * 0.15\n",
    "elif ventas_anuales_totales >= 400000 and ventas_anuales_totales <=70000:\n",
    "  bono = ventas_anuales_totales * 0.10\n",
    "elif ventas_anuales_totales >= 10000 and ventas_anuales_totales <= 400000:\n",
    "  bono = ventas_anuales_totales * 0.05\n",
    "else: \n",
    "  bono = ventas_anuales_totales * 0.01\n",
    "\n",
    "print(f'El bono es {bono}') \n"
   ]
  },
  {
   "cell_type": "markdown",
   "id": "89c56844",
   "metadata": {},
   "source": []
  }
 ],
 "metadata": {
  "kernelspec": {
   "display_name": "Python 3",
   "language": "python",
   "name": "python3"
  },
  "language_info": {
   "codemirror_mode": {
    "name": "ipython",
    "version": 3
   },
   "file_extension": ".py",
   "mimetype": "text/x-python",
   "name": "python",
   "nbconvert_exporter": "python",
   "pygments_lexer": "ipython3",
   "version": "3.13.3"
  }
 },
 "nbformat": 4,
 "nbformat_minor": 5
}
