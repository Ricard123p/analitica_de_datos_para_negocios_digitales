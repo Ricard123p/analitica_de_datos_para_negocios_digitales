{
 "cells": [
  {
   "cell_type": "markdown",
   "id": "cd31c193",
   "metadata": {},
   "source": [
    ">#  Crear y accesar a los diccionarios "
   ]
  },
  {
   "cell_type": "markdown",
   "id": "d9af6560",
   "metadata": {},
   "source": [
    "## Objetivos\n",
    "\n",
    "- Aprender a crear diccionarios con pares llaves-valor\n",
    "- Aprender a accesar a a los valores guardados guardados en el diccionario\n",
    "\n",
    "---\n"
   ]
  },
  {
   "cell_type": "markdown",
   "id": "6f273055",
   "metadata": {},
   "source": [
    "## Desarrollo:\n",
    "\n",
    "Los diccionarios se definen usando (`{}`)"
   ]
  },
  {
   "cell_type": "code",
   "execution_count": 2,
   "id": "df493c9d",
   "metadata": {},
   "outputs": [],
   "source": [
    "diccionario_1 = {}"
   ]
  },
  {
   "cell_type": "markdown",
   "id": "b9f23cd0",
   "metadata": {},
   "source": [
    "Diccionario_1 ya es un diccionario, solo que esta vacio . para incluir datos dentro de un diccionario, tenemos que agregar pares llave-valor dentro de las llaves ({}), cada par llave-valor se para con una (,)"
   ]
  },
  {
   "cell_type": "code",
   "execution_count": 4,
   "id": "aa80d447",
   "metadata": {},
   "outputs": [],
   "source": [
    "diccionario_2 = {\n",
    "    \"llave_1\": \"valor_1\",\n",
    "    \"llave_2\": \"valor_2\",\n",
    "    \"llave_3\": \"valor_3\",\n",
    "    \"llave_4\": \"valor_4\"\n",
    "}"
   ]
  },
  {
   "cell_type": "markdown",
   "id": "47986f0a",
   "metadata": {},
   "source": [
    "Nuestras llaves pueden ser tanto `String` como `int` (pueden ser otras cosas, pero mas estos son los mas comunes) "
   ]
  },
  {
   "cell_type": "code",
   "execution_count": 3,
   "id": "8398b499",
   "metadata": {},
   "outputs": [],
   "source": [
    "diccionario_3 = {\n",
    "    1:\"uno\",\n",
    "    2:\"dos\",\n",
    "    3:\"tres\",\n",
    "    4:\"cuatro\"\n",
    "}"
   ]
  },
  {
   "cell_type": "markdown",
   "id": "3c74cfda",
   "metadata": {},
   "source": [
    "Nuestros valores pueden ser cualquier tipo de dato que se conozca hasta el momento"
   ]
  },
  {
   "cell_type": "code",
   "execution_count": 6,
   "id": "c22014b1",
   "metadata": {},
   "outputs": [],
   "source": [
    "diccionario_4 = {\n",
    "    'int': 123,\n",
    "    'float':23.56,\n",
    "    'string': 'Hola',\n",
    "    'boolean': True,\n",
    "    'lista': [1,2,3,4],\n",
    "    'diccionario' : {\n",
    "        1: 'uno',\n",
    "        2: 'dos'\n",
    "    }\n",
    "}"
   ]
  },
  {
   "cell_type": "markdown",
   "id": "658c89ef",
   "metadata": {},
   "source": [
    "Acceder a un diccionario es tan facil como escribir el nombre del diccionaro, vamos a agregar corchetes (`[]`) y vamos a pasarle el nombre de la llave que quieres acceder por obvias razones, un diccionario no puede tener una llave del mismo nombre. si tenemos otras estruccturas de datos de nuestro diccionario, podemos acceder a los elementos dentro de ellas despues de acceder primero a toda la estrucctura de datos"
   ]
  },
  {
   "cell_type": "code",
   "execution_count": 7,
   "id": "d71538e1",
   "metadata": {},
   "outputs": [
    {
     "name": "stdout",
     "output_type": "stream",
     "text": [
      "23.56\n"
     ]
    }
   ],
   "source": [
    "print(diccionario_4['float'])"
   ]
  },
  {
   "cell_type": "code",
   "execution_count": 8,
   "id": "581d4991",
   "metadata": {},
   "outputs": [
    {
     "name": "stdout",
     "output_type": "stream",
     "text": [
      "True\n"
     ]
    }
   ],
   "source": [
    "print(diccionario_4['boolean'])"
   ]
  },
  {
   "cell_type": "code",
   "execution_count": 9,
   "id": "747f32f9",
   "metadata": {},
   "outputs": [
    {
     "name": "stdout",
     "output_type": "stream",
     "text": [
      "[1, 2, 3, 4]\n"
     ]
    }
   ],
   "source": [
    "print(diccionario_4['lista'])"
   ]
  },
  {
   "cell_type": "code",
   "execution_count": 12,
   "id": "94baa567",
   "metadata": {},
   "outputs": [
    {
     "name": "stdout",
     "output_type": "stream",
     "text": [
      "3\n"
     ]
    }
   ],
   "source": [
    "print(diccionario_4['lista'][2])"
   ]
  },
  {
   "cell_type": "code",
   "execution_count": 13,
   "id": "8a661899",
   "metadata": {},
   "outputs": [
    {
     "name": "stdout",
     "output_type": "stream",
     "text": [
      "{1: 'uno', 2: 'dos'}\n"
     ]
    }
   ],
   "source": [
    "print(diccionario_4['diccionario'])"
   ]
  }
 ],
 "metadata": {
  "kernelspec": {
   "display_name": "Python 3",
   "language": "python",
   "name": "python3"
  },
  "language_info": {
   "codemirror_mode": {
    "name": "ipython",
    "version": 3
   },
   "file_extension": ".py",
   "mimetype": "text/x-python",
   "name": "python",
   "nbconvert_exporter": "python",
   "pygments_lexer": "ipython3",
   "version": "3.13.3"
  }
 },
 "nbformat": 4,
 "nbformat_minor": 5
}
