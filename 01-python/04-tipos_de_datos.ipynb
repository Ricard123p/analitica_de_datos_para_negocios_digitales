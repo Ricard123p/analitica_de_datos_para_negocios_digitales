{
 "cells": [
  {
   "cell_type": "markdown",
   "id": "a1c0065f",
   "metadata": {},
   "source": [
    "## Tipos de datos\n",
    "\n",
    "### Obejetivos\n",
    "-   Hablar sobre los 4 tipos de datos basicos que tiene python\n",
    "\n",
    "---\n",
    "\n",
    "### Desarrolo:"
   ]
  },
  {
   "cell_type": "markdown",
   "id": "b8da8e0a",
   "metadata": {},
   "source": [
    "Se tienen 4 tipo de datos basicos. Veamso en codigo y utlicemos las funciones ´print´ y 'type' para imprimir los tipos de manera explicita:"
   ]
  },
  {
   "cell_type": "code",
   "execution_count": 3,
   "id": "2a46e91e",
   "metadata": {},
   "outputs": [
    {
     "name": "stdout",
     "output_type": "stream",
     "text": [
      "4598\n",
      "<class 'int'>\n",
      "\n",
      "\n",
      "369.432\n",
      "<class 'float'>\n",
      "\n",
      "\n",
      "yo soy un string\n",
      "<class 'str'>\n",
      "\n",
      "\n",
      "<class 'bool'>\n",
      "\n",
      "\n"
     ]
    }
   ],
   "source": [
    "# este es un numero\n",
    "var_int = 4598 \n",
    "print(var_int)\n",
    "print(type(var_int))\n",
    "print('\\n')\n",
    "\n",
    "# Este es un numero decimal\n",
    "var_float = 369.432\n",
    "print(var_float)\n",
    "print(type(var_float))\n",
    "print('\\n')\n",
    "\n",
    "# Este es un string\n",
    "\n",
    "var_string = 'yo soy un string'\n",
    "print(var_string)\n",
    "print(type(var_string))\n",
    "print('\\n')\n",
    "\n",
    "## Este es un booleano\n",
    "\n",
    "var_bool = True\n",
    "print(type(var_bool))\n",
    "print('\\n')\n",
    "\n",
    "\n"
   ]
  }
 ],
 "metadata": {
  "kernelspec": {
   "display_name": "Python 3",
   "language": "python",
   "name": "python3"
  },
  "language_info": {
   "codemirror_mode": {
    "name": "ipython",
    "version": 3
   },
   "file_extension": ".py",
   "mimetype": "text/x-python",
   "name": "python",
   "nbconvert_exporter": "python",
   "pygments_lexer": "ipython3",
   "version": "3.13.3"
  }
 },
 "nbformat": 4,
 "nbformat_minor": 5
}
