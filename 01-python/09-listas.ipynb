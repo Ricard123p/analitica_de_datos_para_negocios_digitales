{
 "cells": [
  {
   "cell_type": "markdown",
   "id": "50e1d4b6",
   "metadata": {},
   "source": [
    "# LISTAS\n",
    "\n",
    "1. Objetivos\n",
    "\n",
    "- Entender las sintaxis de las listas en python\n",
    "- Aprender a crear listas y accesarlas\n",
    "\n",
    "---\n",
    "\n",
    "2. Desarrollo"
   ]
  },
  {
   "cell_type": "markdown",
   "id": "c97ec13a",
   "metadata": {},
   "source": [
    "## Creando listas y accediendo a ellas\n",
    "\n",
    "Las listas son secuencias ordenadas. El orden de los datos en las listas es el mismo orden que tienen los datos a la hora de ser asignados. Una lista se ve haci "
   ]
  },
  {
   "cell_type": "code",
   "execution_count": 1,
   "id": "ade00468",
   "metadata": {},
   "outputs": [
    {
     "data": {
      "text/plain": [
       "[1, 4, 6, 2, 4]"
      ]
     },
     "execution_count": 1,
     "metadata": {},
     "output_type": "execute_result"
    }
   ],
   "source": [
    "lista_1 = [1,4,6,2,4]\n",
    "lista_1"
   ]
  },
  {
   "cell_type": "code",
   "execution_count": 2,
   "id": "29e1ebd7",
   "metadata": {},
   "outputs": [
    {
     "data": {
      "text/plain": [
       "list"
      ]
     },
     "execution_count": 2,
     "metadata": {},
     "output_type": "execute_result"
    }
   ],
   "source": [
    "type(lista_1)"
   ]
  },
  {
   "cell_type": "markdown",
   "id": "00cf91e3",
   "metadata": {},
   "source": [
    "Cada elemento de la lista tiene un indice que se usa para acceder a dicho elemento dado que las listas son ordernadas los indices se van asignando secuencialmente desde el primer elemento hasta el ultimo, el primer indice es siempre  `0` y por lo tanto, el ultimo indice es siempre `m-1` en donde `n` es el numero total de elementos en la lista"
   ]
  },
  {
   "cell_type": "code",
   "execution_count": 3,
   "id": "a1da93d0",
   "metadata": {},
   "outputs": [
    {
     "name": "stdout",
     "output_type": "stream",
     "text": [
      "primer elemento de la lista: 1\n",
      "El ultimo elemento de la lista 4\n"
     ]
    }
   ],
   "source": [
    "# vamos a imprimir el primer elemento de las lista\n",
    "\n",
    "print(f'primer elemento de la lista: {lista_1[0]}')\n",
    "print(f'El ultimo elemento de la lista {lista_1[4]}')"
   ]
  },
  {
   "cell_type": "code",
   "execution_count": 2,
   "id": "a2b68913",
   "metadata": {},
   "outputs": [
    {
     "name": "stdout",
     "output_type": "stream",
     "text": [
      "Contenido de la lista: [10, 5, 7, 2, 1]\n",
      "<class 'list'>\n"
     ]
    }
   ],
   "source": [
    "numbers = [10,5,7,2,1]\n",
    "# imprimir el contenido de la lista \n",
    "print(f'Contenido de la lista: {numbers}')\n",
    "print(type(numbers))"
   ]
  },
  {
   "cell_type": "code",
   "execution_count": 4,
   "id": "2b09546b",
   "metadata": {},
   "outputs": [
    {
     "data": {
      "text/plain": [
       "2"
      ]
     },
     "execution_count": 4,
     "metadata": {},
     "output_type": "execute_result"
    }
   ],
   "source": [
    "# permite accsesar al valor que se encuentra en la posicion\n",
    "numbers[3]"
   ]
  },
  {
   "cell_type": "markdown",
   "id": "b37eea7f",
   "metadata": {},
   "source": [
    "***Vamos a asignar un nuevo valor 111 al primer elemento a la lista. lo hacemos de la siguiente manera***\n"
   ]
  },
  {
   "cell_type": "code",
   "execution_count": null,
   "id": "da1bc647",
   "metadata": {},
   "outputs": [],
   "source": [
    "#copiar el valor del quinto elemento al segundo \n",
    "numbers[1] = numbers[4]\n",
    "print (numbers)\n",
    " print(numbers[-2])\n",
    " print(numbers[-5])"
   ]
  },
  {
   "cell_type": "markdown",
   "id": "cc987f49",
   "metadata": {},
   "source": [
    "## Eliminando Elementos de la lista \n",
    "Cualquier elemento de la lista puede ser eliminado en cualquier momento - esto se hace con una instrucción llamada del (eliminar). Nota: es una instrucción, no una función.\n",
    "Tienes que apuntar al elemento que quieres eliminar - desaparecerá de la lista y la longitud de la lista se reducirá en uno."
   ]
  },
  {
   "cell_type": "code",
   "execution_count": null,
   "id": "a5cf246b",
   "metadata": {},
   "outputs": [],
   "source": [
    "print(f'la lista actual es:{numbers}')\n",
    "del numbers[2]"
   ]
  },
  {
   "cell_type": "code",
   "execution_count": null,
   "id": "14c89776",
   "metadata": {},
   "outputs": [],
   "source": [
    "print(f'La lista actual es: {numbers}')\n",
    "print(f'El tamaño de la lista es {len(numbers)}')"
   ]
  },
  {
   "cell_type": "code",
   "execution_count": null,
   "id": "ac2c83d1",
   "metadata": {},
   "outputs": [],
   "source": [
    "numbers = [111, 1, 2, 1]\n",
    "print(f'La lista actual es: {numbers}')\n",
    "print(f'El tamaño de la lista es {len(numbers)}')"
   ]
  },
  {
   "cell_type": "code",
   "execution_count": null,
   "id": "ec90dcac",
   "metadata": {},
   "outputs": [],
   "source": [
    "lista_prueba = [1, 2, 4, 6, 2, 11]\n",
    "\n",
    "# Remove -> Elimina o remueve la primera coincidencia de un valor que se le indica\n",
    "lista_prueba.remove(2)"
   ]
  },
  {
   "cell_type": "code",
   "execution_count": null,
   "id": "54635ec0",
   "metadata": {},
   "outputs": [],
   "source": [
    "print(f'La lista actual es: {lista_prueba}')\n",
    "print(f'El tamaño de la lista es {len(lista_prueba)}')"
   ]
  },
  {
   "cell_type": "code",
   "execution_count": null,
   "id": "bf00bbc8",
   "metadata": {},
   "outputs": [],
   "source": [
    "def eliminar(valor):\n",
    "       #print(f'Indice: {indice}, Elemento: {elemento} ')\n",
    "    for indice, elemento in enumerate(lista_prueba):\n",
    "     if elemento == valor:\n",
    "        del lista_prueba[indice]"
   ]
  },
  {
   "cell_type": "code",
   "execution_count": null,
   "id": "6db6d16f",
   "metadata": {},
   "outputs": [],
   "source": [
    "print(f'lista actual{lista_prueba}')\n",
    "eliminar(2)\n",
    "print(f\"lista despues de eliminar {lista_prueba}\")"
   ]
  },
  {
   "cell_type": "markdown",
   "id": "1667f6f0",
   "metadata": {},
   "source": [
    "### Los indices negativos son legales \n",
    "\n",
    "`un elemento con indice iguala -1 es e ultimo en la lista `"
   ]
  },
  {
   "cell_type": "code",
   "execution_count": null,
   "id": "0874af89",
   "metadata": {},
   "outputs": [],
   "source": [
    "numbers_2 =[111,7,2,1]\n",
    "print(f'El último valor de la lista es: {numbers_2[3]}')"
   ]
  },
  {
   "cell_type": "markdown",
   "id": "2fdcfede",
   "metadata": {},
   "source": [
    "hat_list = [1, 2, 3, 4, 5]  # Esta es una lista existente de números ocultos en el sombrero.\n",
    "\n",
    "# Paso 1: escribe una línea de código que solicite al usuario\n",
    "# reemplazar el número de en medio con un número entero ingresado por el usuario.\n",
    "\n",
    "# Paso 2: escribe aquí una línea de código que elimine el último elemento de la lista.\n",
    "\n",
    "# Paso 3: escribe aquí una línea de código que imprima la longitud de la lista existente.\n",
    "\n",
    "print(hat_list)"
   ]
  },
  {
   "cell_type": "markdown",
   "id": "ad1bf539",
   "metadata": {},
   "source": [
    "## Agregando elementos a una lista: `append()` e `insert()`\n",
    "\n",
    "Un nuevo elemento puede ser añadido al final de la lista existente:\n",
    "\n",
    "`list.append(value)`\n",
    "\n",
    "El método `insert()` es un poco más inteligente – puede agregar un nuevo elemento en cualquier lugar de la lista,no solo al final.\n",
    "\n",
    "`lista.insert(location,values )`\n",
    "\n",
    "Toma dos argumentos \n",
    "\n",
    "- el primero muestra la ubicación requerida del elemento a insertar; nota: todos los elementos existentes que ocupan ubicaciones a la derecha del nuevo elemento (incluido el que está en la posición indicada) se desplazan a la derecha, para hacer espacio para el nuevo elemento;\n",
    "-  el segundo es el elemento a insertar.\n",
    "Observa el código en el editor. Ve como usamos los métodos append() e insert(). Presta atención a lo que sucede después de usar insert"
   ]
  },
  {
   "cell_type": "code",
   "execution_count": null,
   "id": "f74747f1",
   "metadata": {},
   "outputs": [],
   "source": [
    "numbers_3 = [123, 8, 4, 1]\n",
    "print(f'La lista original es: {numbers_3}')\n",
    "print(f'El tamaño de la lista es: {len(numbers_3)}')\n",
    "\n",
    "# Agregar un valor al final de la lista con el método append\n",
    "\n",
    "numbers_3.append(10)\n",
    "print(f'La lista despues agregar al final es : {numbers_3}')\n",
    "print(f'El tamaño de la lista es: {len(numbers_3)}')"
   ]
  },
  {
   "cell_type": "code",
   "execution_count": null,
   "id": "c97811f7",
   "metadata": {},
   "outputs": [],
   "source": [
    "def agregaralfinal (valor):\n",
    "    numbers_3[-1]=valor"
   ]
  },
  {
   "cell_type": "code",
   "execution_count": null,
   "id": "e0208176",
   "metadata": {},
   "outputs": [],
   "source": [
    "agregaralfinal(11)\n",
    "print(f'La lista despues agregar al final es : {numbers_3}')\n",
    "print(f'El tamaño de la lista es: {len(numbers_3)}')"
   ]
  },
  {
   "cell_type": "code",
   "execution_count": null,
   "id": "3b6165d5",
   "metadata": {},
   "outputs": [],
   "source": [
    "## metodo insert \n",
    "numbers_3.insert(0, 222)\n",
    "print(f'La lista actual es: {numbers_3}')\n",
    "print(f'El tamaño de la lista es: {len(numbers_3)}')"
   ]
  },
  {
   "cell_type": "markdown",
   "id": "b0f7cd1f",
   "metadata": {},
   "source": [
    "def llenar_lista_append(valor):\n",
    "    my_list = []  # Crea una lista vacía\n",
    "\n",
    "    for i in range(valor):\n",
    "        my_list.append(i + 1)\n",
    "        \n",
    "        return my_list"
   ]
  },
  {
   "cell_type": "code",
   "execution_count": null,
   "id": "5aa14c0c",
   "metadata": {},
   "outputs": [],
   "source": [
    "def llenar_lista_append(valor):\n",
    "    my_list = []  # Crea una lista vacía\n",
    "\n",
    "    for i in range(valor):\n",
    "        my_list.append(i + 1)\n",
    "        \n",
    "        return my_list"
   ]
  },
  {
   "cell_type": "code",
   "execution_count": null,
   "id": "fff45e59",
   "metadata": {},
   "outputs": [],
   "source": [
    "def imprimir_lista(lista):\n",
    "    print(f'la lista es:{lista}')\n",
    "    lista=llenar_lista_append(10)\n",
    "imprimir_lista(lista)"
   ]
  },
  {
   "cell_type": "code",
   "execution_count": null,
   "id": "54a0125d",
   "metadata": {},
   "outputs": [],
   "source": [
    "my_list = []\n",
    "\n",
    "for i in range(5):\n",
    "    my_list.insert(0, i + 1)\n",
    "\n",
    "print(my_list)"
   ]
  },
  {
   "cell_type": "code",
   "execution_count": null,
   "id": "d1bfc68e",
   "metadata": {},
   "outputs": [],
   "source": [
    "# Recorrer la lista con un ciclo\n",
    "mi_lista = [10, 1, 8, 3, 5]\n",
    "\n",
    "for i in mi_lista:\n",
    "    print(i)"
   ]
  },
  {
   "cell_type": "code",
   "execution_count": null,
   "id": "38e1c08c",
   "metadata": {},
   "outputs": [],
   "source": [
    "# Recorrer la lista con un ciclo\n",
    "mi_lista = [10, 1, 8, 3, 5]\n",
    "\n",
    "for i in mi_lista:\n",
    "    print(i)"
   ]
  },
  {
   "cell_type": "code",
   "execution_count": null,
   "id": "f95c8a0f",
   "metadata": {},
   "outputs": [],
   "source": [
    "# Sumar los valores de la lista\n",
    "total = 0\n",
    "\n",
    "for i in mi_lista:\n",
    "    total += i\n",
    "\n",
    "print(f'La suma de los valores de la lista es {total}')"
   ]
  },
  {
   "cell_type": "code",
   "execution_count": null,
   "id": "f903e5f9",
   "metadata": {},
   "outputs": [],
   "source": [
    "# Versión con while\n",
    "def guardar_calificaciones(numero):\n",
    "    lista_calificaciones = []\n",
    "    i = 1\n",
    "\n",
    "    while i <= numero:\n",
    "        calificacion = float(input(f'Solicita la calificación {i} !'))\n",
    "        lista_calificaciones.append(calificacion)\n",
    "        i += 1\n",
    "\n",
    "    return lista_calificaciones"
   ]
  },
  {
   "cell_type": "code",
   "execution_count": null,
   "id": "ffc664af",
   "metadata": {},
   "outputs": [],
   "source": [
    "# Versión con for\n",
    "def guardar_calificaciones_2(numero):\n",
    "    lista_calificaciones = []\n",
    "\n",
    "    for i in range(numero):\n",
    "        calificacion = float(input(f'Solicita la calificación {i + 1} !'))\n",
    "        lista_calificaciones.append(calificacion)\n",
    "\n",
    "    return lista_calificaciones"
   ]
  },
  {
   "cell_type": "code",
   "execution_count": null,
   "id": "ca9ee19c",
   "metadata": {},
   "outputs": [],
   "source": [
    "# Llamada a la función\n",
    "lista = guardar_calificaciones_2(3)\n",
    "print(lista)"
   ]
  },
  {
   "cell_type": "markdown",
   "id": "67dbd78f",
   "metadata": {},
   "source": [
    "## listas en accion \n",
    "\n",
    "Imagina que nesecitas reorganizar los elmentos de una lista es decir revertir el orden de los elementos: el primero y el quinto asi como el segundo y el cuarto elemento seran intercambiados, el tercero permanecera intacto. \n",
    "\n",
    "Pregunta: ¿Como se pueden intercambiar los valores de dos variables ?"
   ]
  },
  {
   "cell_type": "code",
   "execution_count": null,
   "id": "8d4188fb",
   "metadata": {},
   "outputs": [],
   "source": [
    "variable_1 = 1\n",
    "variable_2 = 2\n",
    "\n",
    "variable_2 = variable_1\n",
    "variable_1 = variable_2\n",
    "\n"
   ]
  },
  {
   "cell_type": "code",
   "execution_count": null,
   "id": "6fdc56be",
   "metadata": {},
   "outputs": [],
   "source": [
    "variable_1 = 1\n",
    "variable_2 = 2\n",
    "\n",
    "aux = variable_1\n",
    "variable_1 = variable_1\n",
    "variable_2 = aux"
   ]
  },
  {
   "cell_type": "code",
   "execution_count": 1,
   "id": "5551f378",
   "metadata": {},
   "outputs": [
    {
     "name": "stdout",
     "output_type": "stream",
     "text": [
      "El valor de la variable_1 es: 2 \n",
      "El valor de la variable_2 es 1\n"
     ]
    }
   ],
   "source": [
    "variable_1 = 1\n",
    "variable_2 = 2\n",
    "\n",
    "variable_1, variable_2 = variable_2, variable_1\n",
    "\n",
    "print(f'El valor de la variable_1 es: {variable_1} \\nEl valor de la variable_2 es {variable_2}')"
   ]
  },
  {
   "cell_type": "markdown",
   "id": "59f8d3ed",
   "metadata": {},
   "source": [
    "Teniendo una lista llamada mi lista con valores 10,1,8,3,5 intercambiar el 10 por el 5 y biceversa "
   ]
  },
  {
   "cell_type": "code",
   "execution_count": 3,
   "id": "afb90c08",
   "metadata": {},
   "outputs": [
    {
     "name": "stdout",
     "output_type": "stream",
     "text": [
      "mi lista tiene valor de 5 \n",
      "mi otra lista tiene valor de 10\n"
     ]
    }
   ],
   "source": [
    "variable_1 = 10\n",
    "variable_2 = 1\n",
    "variable_3 = 8\n",
    "variable_4 = 3\n",
    "variable_5 = 5\n",
    "\n",
    "variable_1, variable_5 = variable_5, variable_1\n",
    "\n",
    "print(f'mi lista tiene valor de {variable_1} \\nmi otra lista tiene valor de {variable_5}')"
   ]
  },
  {
   "cell_type": "code",
   "execution_count": null,
   "id": "84e20786",
   "metadata": {},
   "outputs": [],
   "source": [
    "mi_lista = [10,1,8,3,5]\n",
    "\n",
    "mi_lista[0], mi_lista[4] = mi_lista[4], mi_lista[0]\n",
    "mi_lista[1], mi_lista[-2] = mi_lista[-2], mi_lista[1]\n",
    "\n",
    "print(mi_lista)"
   ]
  }
 ],
 "metadata": {
  "kernelspec": {
   "display_name": "Python 3",
   "language": "python",
   "name": "python3"
  },
  "language_info": {
   "codemirror_mode": {
    "name": "ipython",
    "version": 3
   },
   "file_extension": ".py",
   "mimetype": "text/x-python",
   "name": "python",
   "nbconvert_exporter": "python",
   "pygments_lexer": "ipython3",
   "version": "3.13.3"
  }
 },
 "nbformat": 4,
 "nbformat_minor": 5
}
