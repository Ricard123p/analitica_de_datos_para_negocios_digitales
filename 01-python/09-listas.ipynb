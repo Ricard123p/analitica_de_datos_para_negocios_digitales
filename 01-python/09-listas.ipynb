{
 "cells": [
  {
   "cell_type": "markdown",
   "id": "50e1d4b6",
   "metadata": {},
   "source": [
    "# LISTAS\n",
    "\n",
    "1. Objetivos\n",
    "\n",
    "- Entender las sintaxis de las listas en python\n",
    "- Aprender a crear listas y accesarlas\n",
    "\n",
    "---\n",
    "\n",
    "2. Desarrollo"
   ]
  },
  {
   "cell_type": "markdown",
   "id": "c97ec13a",
   "metadata": {},
   "source": [
    "## Creando listas y accediendo a ellas\n",
    "\n",
    "Las listas son secuencias ordenadas. El orden de los datos en las listas es el mismo orden que tienen los datos a la hora de ser asignados. Una lista se ve haci "
   ]
  },
  {
   "cell_type": "code",
   "execution_count": 1,
   "id": "ade00468",
   "metadata": {},
   "outputs": [
    {
     "data": {
      "text/plain": [
       "[1, 4, 6, 2, 4]"
      ]
     },
     "execution_count": 1,
     "metadata": {},
     "output_type": "execute_result"
    }
   ],
   "source": [
    "lista_1 = [1,4,6,2,4]\n",
    "lista_1"
   ]
  },
  {
   "cell_type": "code",
   "execution_count": 2,
   "id": "29e1ebd7",
   "metadata": {},
   "outputs": [
    {
     "data": {
      "text/plain": [
       "list"
      ]
     },
     "execution_count": 2,
     "metadata": {},
     "output_type": "execute_result"
    }
   ],
   "source": [
    "type(lista_1)"
   ]
  },
  {
   "cell_type": "markdown",
   "id": "00cf91e3",
   "metadata": {},
   "source": [
    "Cada elemento de la lista tiene un indice que se usa para acceder a dicho elemento dado que las listas son ordernadas los indices se van asignando secuencialmente desde el primer elemento hasta el ultimo, el primer indice es siempre  `0` y por lo tanto, el ultimo indice es siempre `m-1` en donde `n` es el numero total de elementos en la lista"
   ]
  },
  {
   "cell_type": "code",
   "execution_count": 3,
   "id": "a1da93d0",
   "metadata": {},
   "outputs": [
    {
     "name": "stdout",
     "output_type": "stream",
     "text": [
      "primer elemento de la lista: 1\n",
      "El ultimo elemento de la lista 4\n"
     ]
    }
   ],
   "source": [
    "# vamos a imprimir el primer elemento de las lista\n",
    "\n",
    "print(f'primer elemento de la lista: {lista_1[0]}')\n",
    "print(f'El ultimo elemento de la lista {lista_1[4]}')"
   ]
  },
  {
   "cell_type": "code",
   "execution_count": 2,
   "id": "a2b68913",
   "metadata": {},
   "outputs": [
    {
     "name": "stdout",
     "output_type": "stream",
     "text": [
      "Contenido de la lista: [10, 5, 7, 2, 1]\n",
      "<class 'list'>\n"
     ]
    }
   ],
   "source": [
    "numbers = [10,5,7,2,1]\n",
    "# imprimir el contenido de la lista \n",
    "print(f'Contenido de la lista: {numbers}')\n",
    "print(type(numbers))"
   ]
  },
  {
   "cell_type": "code",
   "execution_count": 4,
   "id": "2b09546b",
   "metadata": {},
   "outputs": [
    {
     "data": {
      "text/plain": [
       "2"
      ]
     },
     "execution_count": 4,
     "metadata": {},
     "output_type": "execute_result"
    }
   ],
   "source": [
    "# permite accsesar al valor que se encuentra en la posicion\n",
    "numbers[3]"
   ]
  },
  {
   "cell_type": "markdown",
   "id": "b37eea7f",
   "metadata": {},
   "source": [
    "***Vamos a asignar un nuevo valor 111 al primer elemento a la lista. lo hacemos de la siguiente manera***\n"
   ]
  },
  {
   "cell_type": "code",
   "execution_count": null,
   "id": "da1bc647",
   "metadata": {},
   "outputs": [],
   "source": []
  }
 ],
 "metadata": {
  "kernelspec": {
   "display_name": "Python 3",
   "language": "python",
   "name": "python3"
  },
  "language_info": {
   "codemirror_mode": {
    "name": "ipython",
    "version": 3
   },
   "file_extension": ".py",
   "mimetype": "text/x-python",
   "name": "python",
   "nbconvert_exporter": "python",
   "pygments_lexer": "ipython3",
   "version": "3.13.3"
  }
 },
 "nbformat": 4,
 "nbformat_minor": 5
}
