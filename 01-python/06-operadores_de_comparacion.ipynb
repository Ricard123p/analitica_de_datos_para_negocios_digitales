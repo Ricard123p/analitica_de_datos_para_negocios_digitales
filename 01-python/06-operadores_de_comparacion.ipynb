{
 "cells": [
  {
   "cell_type": "markdown",
   "id": "6b431116",
   "metadata": {},
   "source": [
    "## Operadores de comparacion \n",
    "\n",
    "### Objetivos\n",
    "\n",
    "-   Conocer el funcionamiento de los operadores de comparacion usando ints, floats y strings\n",
    "\n",
    "---\n",
    "\n",
    "### Desarrollo\n"
   ]
  },
  {
   "cell_type": "markdown",
   "id": "db23d3c4",
   "metadata": {},
   "source": [
    "Asaignar valorres a algunas variables para despues utilizarlas para realizar comparaciones:"
   ]
  },
  {
   "cell_type": "code",
   "execution_count": 1,
   "id": "9e91c40b",
   "metadata": {},
   "outputs": [],
   "source": [
    "var_1 = 34\n",
    "var_2 = 12\n",
    "var_3= 23.24\n",
    "var_4 = 23.56\n",
    "var_5 = \"OK\"\n",
    "var_6 = \"ERROR\"\n",
    "var_7 = True\n",
    "var_8 = False\n"
   ]
  },
  {
   "cell_type": "markdown",
   "id": "f7f65af0",
   "metadata": {},
   "source": [
    "Ahora vamos a realizar alunas comparaciones para ver como funcionan los operadores relacionales \n"
   ]
  },
  {
   "cell_type": "code",
   "execution_count": 2,
   "id": "08b0cc4e",
   "metadata": {},
   "outputs": [
    {
     "data": {
      "text/plain": [
       "True"
      ]
     },
     "execution_count": 2,
     "metadata": {},
     "output_type": "execute_result"
    }
   ],
   "source": [
    "var_1 > var_2"
   ]
  },
  {
   "cell_type": "code",
   "execution_count": 3,
   "id": "c2d4024e",
   "metadata": {},
   "outputs": [
    {
     "data": {
      "text/plain": [
       "False"
      ]
     },
     "execution_count": 3,
     "metadata": {},
     "output_type": "execute_result"
    }
   ],
   "source": [
    "var_1 < var_2"
   ]
  },
  {
   "cell_type": "code",
   "execution_count": 4,
   "id": "d8b7ac75",
   "metadata": {},
   "outputs": [
    {
     "data": {
      "text/plain": [
       "True"
      ]
     },
     "execution_count": 4,
     "metadata": {},
     "output_type": "execute_result"
    }
   ],
   "source": [
    "var_3 < var_4"
   ]
  },
  {
   "cell_type": "code",
   "execution_count": 5,
   "id": "5cab0d2c",
   "metadata": {},
   "outputs": [
    {
     "data": {
      "text/plain": [
       "True"
      ]
     },
     "execution_count": 5,
     "metadata": {},
     "output_type": "execute_result"
    }
   ],
   "source": [
    "var_3 <= var_3"
   ]
  },
  {
   "cell_type": "code",
   "execution_count": 6,
   "id": "82ffdc0d",
   "metadata": {},
   "outputs": [
    {
     "data": {
      "text/plain": [
       "True"
      ]
     },
     "execution_count": 6,
     "metadata": {},
     "output_type": "execute_result"
    }
   ],
   "source": [
    "var_1 >= var_4"
   ]
  },
  {
   "cell_type": "code",
   "execution_count": 7,
   "id": "9f37314c",
   "metadata": {},
   "outputs": [
    {
     "data": {
      "text/plain": [
       "False"
      ]
     },
     "execution_count": 7,
     "metadata": {},
     "output_type": "execute_result"
    }
   ],
   "source": [
    "var_5 == var_6"
   ]
  },
  {
   "cell_type": "code",
   "execution_count": 10,
   "id": "676257a3",
   "metadata": {},
   "outputs": [],
   "source": [
    "var_5 = var_6"
   ]
  },
  {
   "cell_type": "code",
   "execution_count": 9,
   "id": "de873ba2",
   "metadata": {},
   "outputs": [],
   "source": [
    "var_7 = var_8"
   ]
  },
  {
   "cell_type": "code",
   "execution_count": 11,
   "id": "a1b2a0a2",
   "metadata": {},
   "outputs": [
    {
     "data": {
      "text/plain": [
       "False"
      ]
     },
     "execution_count": 11,
     "metadata": {},
     "output_type": "execute_result"
    }
   ],
   "source": [
    "True == False"
   ]
  },
  {
   "cell_type": "code",
   "execution_count": 12,
   "id": "0bf0fa7e",
   "metadata": {},
   "outputs": [
    {
     "data": {
      "text/plain": [
       "True"
      ]
     },
     "execution_count": 12,
     "metadata": {},
     "output_type": "execute_result"
    }
   ],
   "source": [
    "True > False"
   ]
  },
  {
   "cell_type": "code",
   "execution_count": 13,
   "id": "09dbf547",
   "metadata": {},
   "outputs": [
    {
     "data": {
      "text/plain": [
       "False"
      ]
     },
     "execution_count": 13,
     "metadata": {},
     "output_type": "execute_result"
    }
   ],
   "source": [
    "True < False"
   ]
  }
 ],
 "metadata": {
  "kernelspec": {
   "display_name": "Python 3",
   "language": "python",
   "name": "python3"
  },
  "language_info": {
   "codemirror_mode": {
    "name": "ipython",
    "version": 3
   },
   "file_extension": ".py",
   "mimetype": "text/x-python",
   "name": "python",
   "nbconvert_exporter": "python",
   "pygments_lexer": "ipython3",
   "version": "3.13.3"
  }
 },
 "nbformat": 4,
 "nbformat_minor": 5
}
